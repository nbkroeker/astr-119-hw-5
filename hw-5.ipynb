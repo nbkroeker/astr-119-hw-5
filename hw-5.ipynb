{
 "cells": [
  {
   "cell_type": "markdown",
   "metadata": {},
   "source": [
    "# #HW 5: Numerical Integration"
   ]
  },
  {
   "cell_type": "code",
   "execution_count": null,
   "metadata": {
    "scrolled": true
   },
   "outputs": [],
   "source": [
    "%matplotlib inline\n",
    "import numpy as np\n",
    "import matplotlib.pyplot as plt"
   ]
  },
  {
   "cell_type": "code",
   "execution_count": null,
   "metadata": {
    "scrolled": true
   },
   "outputs": [],
   "source": [
    "def func(x):\n",
    "    return np.exp(-2*x) * np.cos(10*x)"
   ]
  },
  {
   "cell_type": "markdown",
   "metadata": {},
   "source": [
    "# Trapazoidal Method"
   ]
  },
  {
   "cell_type": "code",
   "execution_count": null,
   "metadata": {
    "scrolled": true
   },
   "outputs": [],
   "source": [
    "def trapazoid(lower_bound, upper_bound, intervals):                #Function performing Trapazoid method\n",
    "    x1 = lower_bound\n",
    "    x2 = upper_bound\n",
    "    n = intervals\n",
    "\n",
    "    delta_x = (x2 - x1) / n                                        #Trapazoid width\n",
    "    i = 0                                                          #Iteration tracker\n",
    "    total = 0.0                                                    #Running total of integral\n",
    "    \n",
    "    #print(delta_x)\n",
    "    \n",
    "    for i in range (n):\n",
    "        low = x1 + (i*delta_x)\n",
    "        high = x1 + ((i+1)*delta_x)\n",
    "        #print((delta_x/2) * (func(low) + func(high)))\n",
    "        total += (delta_x/2) * (func(low) + func(high))\n",
    "        #print(total)\n",
    "        #print(low)\n",
    "        #print(high)\n",
    "        \n",
    "    return total"
   ]
  },
  {
   "cell_type": "markdown",
   "metadata": {},
   "source": [
    "## Simpson's"
   ]
  },
  {
   "cell_type": "code",
   "execution_count": null,
   "metadata": {
    "scrolled": true
   },
   "outputs": [],
   "source": [
    "def simpson(lower_bound, upper_bound, intervals):\n",
    "    x1 = lower_bound\n",
    "    x2 = upper_bound\n",
    "    n = intervals\n",
    "    \n",
    "    if(n%2 == 1):\n",
    "        print(\"Odd Interval\")\n",
    "        return 0\n",
    "    \n",
    "    delta_x = (x2 - x1) / n\n",
    "    i = 0\n",
    "    total = 0.0                              #Running total\n",
    "    \n",
    "    #print(delta_x)\n",
    "    \n",
    "    for i in range (n):\n",
    "        if(i == 0):                          #First term\n",
    "            total += func(x1)\n",
    "            #print(total)\n",
    "            \n",
    "        elif(i == n-1):\n",
    "            total += func(x2)\n",
    "            #print(\"Loop finished\")\n",
    "            #print(total)\n",
    "            \n",
    "        elif(i%2 == 0):                      #Even Term *4\n",
    "            total += 4*func(x1+i*delta_x)\n",
    "            #print(i)\n",
    "            #print(\"^*4\")\n",
    "            #print(total)\n",
    "            \n",
    "        elif(i%2 == 1):                      #Odd Term *2\n",
    "            total += 2*func(x1+i*delta_x)\n",
    "            #print(i)\n",
    "            #print(total)\n",
    "            \n",
    "    total *= delta_x / 3\n",
    "    \n",
    "    return total"
   ]
  },
  {
   "cell_type": "markdown",
   "metadata": {},
   "source": [
    "## Romberg"
   ]
  },
  {
   "cell_type": "code",
   "execution_count": null,
   "metadata": {
    "scrolled": true
   },
   "outputs": [],
   "source": [
    "def base(a, h, i):\n",
    "    dh = h/2.**(i)\n",
    "    running = 0.0\n",
    "    \n",
    "    for j in range(2**i):\n",
    "        running += func(a + 0.5*dh + j*dh)\n",
    "    \n",
    "    running *= (dh*0.5)\n",
    "    \n",
    "    return running\n",
    "    \n",
    "\n",
    "def romberg(lower_bound, upper_bound):\n",
    "    a = lower_bound\n",
    "    b = upper_bound\n",
    "    h = b-a\n",
    "    imax = 30\n",
    "    tol = 1.0e-6\n",
    "    I = np.zeros(imax, dtype=float)\n",
    "    d = 100.\n",
    "    \n",
    "    for i in range (0, imax):\n",
    "        if(i == 0):                                  #Set zeroth Romberg\n",
    "            #print(\"Test\")\n",
    "            I[i] = 0.5 * h * (func(a) + func(b))\n",
    "        \n",
    "        else:\n",
    "            I[i] = (0.5 * I[i-1]) + base(a, h, i)\n",
    "            d = np.fabs((I[i]-I[i-1])/I[i])\n",
    "            #print(\"d is: \", d)\n",
    "            \n",
    "            if(d < tol):\n",
    "                return I[i]\n",
    "    \n",
    "    print(\"Max iterations reached, integration is a best estimate.\")\n",
    "    return I[imax]"
   ]
  },
  {
   "cell_type": "code",
   "execution_count": null,
   "metadata": {
    "scrolled": true
   },
   "outputs": [],
   "source": [
    "ans = 0.019195                               #Used my calculator wich does definite integrals for answer\n",
    "tol = 1.0e-6\n",
    "\n",
    "for i in range (1, 2000):\n",
    "    if(np.fabs(ans - trapazoid(0, np.pi, i)) < tol):\n",
    "        print(\"Using Trapazoid Method integral is: \", trapazoid(0, np.pi, i), \"found after: \", i, \" iterations.\" )\n",
    "        break\n",
    "\n",
    "for i in range (1, 10000):\n",
    "    if(np.fabs(ans - simpson(0, np.pi, 2*i)) < 1.0e-3):\n",
    "        print(\"Using Simpson's Method integral is: \", simpson(0, np.pi, i), \"found after: \", i, \" iterations.\" )\n",
    "        break\n",
    "\n",
    "print(\"Simpson's used lower accuracy, didn't converge easily with 1e-6.\")\n",
    "\n",
    "print(\"Using Romberg method: \", romberg(0, np.pi))\n",
    "\n",
    "print(\"Finished\")"
   ]
  }
 ],
 "metadata": {
  "kernelspec": {
   "display_name": "Python 3",
   "language": "python",
   "name": "python3"
  },
  "language_info": {
   "codemirror_mode": {
    "name": "ipython",
    "version": 3
   },
   "file_extension": ".py",
   "mimetype": "text/x-python",
   "name": "python",
   "nbconvert_exporter": "python",
   "pygments_lexer": "ipython3",
   "version": "3.8.6"
  }
 },
 "nbformat": 4,
 "nbformat_minor": 4
}
